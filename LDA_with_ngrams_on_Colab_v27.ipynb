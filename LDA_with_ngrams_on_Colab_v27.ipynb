{
  "cells": [
    {
      "cell_type": "markdown",
      "metadata": {
        "id": "view-in-github",
        "colab_type": "text"
      },
      "source": [
        "<a href=\"https://colab.research.google.com/github/DigitalHugManitees/DH_Topic_Workshop/blob/main/LDA_with_ngrams_on_Colab_v27.ipynb\" target=\"_parent\"><img src=\"https://colab.research.google.com/assets/colab-badge.svg\" alt=\"Open In Colab\"/></a>"
      ]
    },
    {
      "cell_type": "markdown",
      "metadata": {
        "id": "xkvaq1IlNJm1"
      },
      "source": [
        "# LDA using Spacey and Gensim \n",
        "## with n-grams for more accurate topics\n",
        "\n",
        "This notebook provides topics based on documents within a large collection of documents, called a corpus. LDA, or Latent Dirichlet Allocation, is a statistical model that provides probabilities of words belonging to a topic, with the assumption that a document contains a small number of topics. \n",
        "\n",
        "\n",
        "### Limitations\n",
        "- [ ] Still lots of human level interpretation needed - there are lots of terms that are contextual.\n",
        "- [ ] Data needs to be a corpus, so is one newspaper a corpus of topics? Or a bunch of newspapers? How do you define your corpus?\n",
        "- [ ] You will need to know how many topics you want beforehand. \n",
        "- [ ] The output is non-deterministic, meaning that you may see a different result each time you run the analysis. The assignment of nominal cluster numbers is less important than their relationship to each other. \n",
        "\n",
        "### development\n",
        "- [ ] is it possible to automate dividing up a newspaper/gazette by its articles, so that one issue may be a corpus of many articles? \n",
        "- [ ] or do we work on a larger scale and years of Gazette are lumped together with many years forming a corpus?\n",
        "\n",
        "### sources on LDA\n",
        " - https://towardsdatascience.com/latent-dirichlet-allocation-lda-9d1cd064ffa2\n",
        "\n",
        "\n",
        "### Authors and affiliations:\n",
        "This notebook is based off a tutorial by Tarek Ghanoum (https://towardsdatascience.com/topic-modelling-in-python-with-spacy-and-gensim-dc8f7748bdbf).\n",
        "It was modified by Anika Nissen (University of Duisburg-Essen (UDE)https://www.iis.wiwi.uni-due.de/team/anika-nissen/) with help from Dominic Rosati (scite.ai, https://scite.ai/authors/domenic-rosati-X4xWR8A) for improvement of the ngrams. \n",
        "Additional modifications by Poppy Riddle (Dalhousie University, https://github.com/poppy-nicolette) for deployment on Colab, collating files, annotating, assigning clusters to source files in the df, and exporting. \n",
        "\n",
        "\n"
      ]
    },
    {
      "cell_type": "markdown",
      "source": [
        "## Step 1: Mount your Google Drive to Colab so that files can be saved. \n",
        "<br>\n",
        "This will create a working directory that you can place files in for analyzing, and then download output files."
      ],
      "metadata": {
        "id": "QNDXMbckRDU7"
      }
    },
    {
      "cell_type": "code",
      "source": [
        "#mount google drive here\n",
        "from google.colab import drive\n",
        "drive.mount('/content/drive', force_remount=True)\n",
        "\n",
        "import os \n",
        "\n",
        "# Set your working directory to a folder in your Google Drive. \n",
        "# the base Google Drive directory\n",
        "root_dir = \"/content/drive/My Drive/\"\n",
        "\n",
        "# choose where you want your project files to be saved AND\n",
        "# what you want the folder to be called. This is your working directory\n",
        "project_folder = \"Colab Notebooks/LDA_Project_Folder/\"\n",
        "\n",
        "def create_and_set_working_directory(project_folder):\n",
        "  # check if your project folder exists. if not, it will be created.\n",
        "  if os.path.isdir(root_dir + project_folder) == False:\n",
        "    os.mkdir(root_dir + project_folder)\n",
        "    print(root_dir + project_folder + ' did not exist but was created.')\n",
        "\n",
        "  # change the OS to use your project folder as the working directory\n",
        "  os.chdir(root_dir + project_folder)\n",
        "\n",
        "  # let the user know that the working directory was changed\n",
        "  print('\\nYour working directory was changed to ' + root_dir + project_folder)\n",
        "  print(\"You can also run !pwd to confirm the current working directory.\")\n",
        "\n",
        "create_and_set_working_directory(project_folder)\n",
        "\n",
        "#source: modified from https://robertbrucecarter.com/writing/2020/06/setting-your-working-directory-to-google-drive-in-a-colab-notebook/"
      ],
      "metadata": {
        "id": "094KlAekz_dZ",
        "colab": {
          "base_uri": "https://localhost:8080/"
        },
        "outputId": "7f31518a-e552-4b68-9ed7-43523c2c0f2d"
      },
      "execution_count": 1,
      "outputs": [
        {
          "output_type": "stream",
          "name": "stdout",
          "text": [
            "Mounted at /content/drive\n",
            "\n",
            "Your working directory was changed to /content/drive/My Drive/Colab Notebooks/LDA_Project_Folder/\n",
            "You can also run !pwd to confirm the current working directory.\n"
          ]
        }
      ]
    },
    {
      "cell_type": "markdown",
      "source": [
        "## Allow Google Colab to connect to your Drive\n",
        "The following cell will establish a connection between Google Colab and your Drive. A pop-up will ask for which Google account and also ask permission. \n",
        "\n",
        "Google also provides links to sources explaining how your data is used and shared across these two services. "
      ],
      "metadata": {
        "id": "x0KBC4r2klUD"
      }
    },
    {
      "cell_type": "code",
      "source": [
        "# Import PyDrive and associated libraries.\n",
        "# This only needs to be done once per notebook.\n",
        "from pydrive.auth import GoogleAuth\n",
        "from pydrive.drive import GoogleDrive\n",
        "from google.colab import auth\n",
        "from oauth2client.client import GoogleCredentials\n",
        "\n",
        "# Authenticate and create the PyDrive client.\n",
        "# This only needs to be done once per notebook.\n",
        "auth.authenticate_user()\n",
        "gauth = GoogleAuth()\n",
        "gauth.credentials = GoogleCredentials.get_application_default()\n",
        "drive = GoogleDrive(gauth)\n",
        "\n",
        "# List .txt files in the root.\n",
        "#\n",
        "# Search query reference:\n",
        "# https://developers.google.com/drive/v2/web/search-parameters\n",
        "listed = drive.ListFile({'q': \"title contains '.txt' and 'root' in parents\"}).GetList()\n",
        "for file in listed:\n",
        "  print('title {}, id {}'.format(file['title'], file['id']))"
      ],
      "metadata": {
        "id": "kZm6gCMfw7kI"
      },
      "execution_count": 2,
      "outputs": []
    },
    {
      "cell_type": "markdown",
      "source": [
        "### Now, you have a working directory!\n",
        "Remember those .txt files you saved from the OCR notebook? Locate them. \n",
        " <br>Then, go to your Google Drive and locate the LDA_Project_Folder you created in the cells above.\n",
        " <br>Move the .txt files to this Google folder (your working directory).\n",
        "<br>You will repeat this process with every group of .txt files you want to analyze."
      ],
      "metadata": {
        "id": "wOAjjUCeQZS6"
      }
    },
    {
      "cell_type": "markdown",
      "metadata": {
        "id": "h-ZK6X86NJm7"
      },
      "source": [
        "## Step 2: Install libraries and dependencies\n",
        "This will install and import all of the libraries needed. <br>\n",
        "It will also import our Spacey language model. \n",
        "\n",
        "Other language models exist for other corpora and you can find them here: https://spacy.io/usage/models"
      ]
    },
    {
      "cell_type": "code",
      "execution_count": 3,
      "metadata": {
        "colab": {
          "base_uri": "https://localhost:8080/"
        },
        "id": "lYhWnIzcWMNA",
        "outputId": "c20c9e53-4a76-4528-d116-85b77e1fefa8"
      },
      "outputs": [
        {
          "output_type": "stream",
          "name": "stdout",
          "text": [
            "\u001b[?25l     \u001b[90m━━━━━━━━━━━━━━━━━━━━━━━━━━━━━━━━━━━━━━━━\u001b[0m \u001b[32m0.0/1.7 MB\u001b[0m \u001b[31m?\u001b[0m eta \u001b[36m-:--:--\u001b[0m\r\u001b[2K     \u001b[91m━━━━━━\u001b[0m\u001b[91m╸\u001b[0m\u001b[90m━━━━━━━━━━━━━━━━━━━━━━━━━━━━━━━━━\u001b[0m \u001b[32m0.3/1.7 MB\u001b[0m \u001b[31m8.5 MB/s\u001b[0m eta \u001b[36m0:00:01\u001b[0m\r\u001b[2K     \u001b[91m━━━━━━━━━━━━━━━━━━━━━━━━━━━━━━━━━━━━━━━\u001b[0m\u001b[91m╸\u001b[0m \u001b[32m1.6/1.7 MB\u001b[0m \u001b[31m27.8 MB/s\u001b[0m eta \u001b[36m0:00:01\u001b[0m\r\u001b[2K     \u001b[90m━━━━━━━━━━━━━━━━━━━━━━━━━━━━━━━━━━━━━━━━\u001b[0m \u001b[32m1.7/1.7 MB\u001b[0m \u001b[31m21.8 MB/s\u001b[0m eta \u001b[36m0:00:00\u001b[0m\n",
            "\u001b[?25h  Installing build dependencies ... \u001b[?25l\u001b[?25hdone\n",
            "  Getting requirements to build wheel ... \u001b[?25l\u001b[?25hdone\n",
            "  Installing backend dependencies ... \u001b[?25l\u001b[?25hdone\n",
            "  Preparing metadata (pyproject.toml) ... \u001b[?25l\u001b[?25hdone\n",
            "  Preparing metadata (setup.py) ... \u001b[?25l\u001b[?25hdone\n",
            "  Building wheel for pyLDAvis (pyproject.toml) ... \u001b[?25l\u001b[?25hdone\n",
            "  \u001b[1;31merror\u001b[0m: \u001b[1msubprocess-exited-with-error\u001b[0m\n",
            "  \n",
            "  \u001b[31m×\u001b[0m \u001b[32mpython setup.py bdist_wheel\u001b[0m did not run successfully.\n",
            "  \u001b[31m│\u001b[0m exit code: \u001b[1;36m1\u001b[0m\n",
            "  \u001b[31m╰─>\u001b[0m See above for output.\n",
            "  \n",
            "  \u001b[1;35mnote\u001b[0m: This error originates from a subprocess, and is likely not a problem with pip.\n",
            "  Building wheel for sklearn (setup.py) ... \u001b[?25lerror\n",
            "\u001b[31m  ERROR: Failed building wheel for sklearn\u001b[0m\u001b[31m\n",
            "\u001b[0m\u001b[?25h  Running setup.py install for sklearn ... \u001b[?25l\u001b[?25hdone\n",
            "\u001b[33m  DEPRECATION: sklearn was installed using the legacy 'setup.py install' method, because a wheel could not be built for it. A possible replacement is to fix the wheel build issue reported above. Discussion can be found at https://github.com/pypa/pip/issues/8368\u001b[0m\u001b[33m\n",
            "\u001b[2K     \u001b[90m━━━━━━━━━━━━━━━━━━━━━━━━━━━━━━━━━━━━━━━━\u001b[0m \u001b[32m24.1/24.1 MB\u001b[0m \u001b[31m23.2 MB/s\u001b[0m eta \u001b[36m0:00:00\u001b[0m\n",
            "\u001b[2K     \u001b[90m━━━━━━━━━━━━━━━━━━━━━━━━━━━━━━━━━━━━━━━━\u001b[0m \u001b[32m67.1/67.1 KB\u001b[0m \u001b[31m7.8 MB/s\u001b[0m eta \u001b[36m0:00:00\u001b[0m\n",
            "\u001b[?25h  Preparing metadata (setup.py) ... \u001b[?25l\u001b[?25hdone\n",
            "  Preparing metadata (setup.py) ... \u001b[?25l\u001b[?25hdone\n",
            "  Building wheel for fst-pso (setup.py) ... \u001b[?25l\u001b[?25hdone\n",
            "  Building wheel for miniful (setup.py) ... \u001b[?25l\u001b[?25hdone\n",
            "/usr/local/lib/python3.8/dist-packages/torch/cuda/__init__.py:497: UserWarning: Can't initialize NVML\n",
            "  warnings.warn(\"Can't initialize NVML\")\n",
            "2023-01-26 11:25:30.682471: E tensorflow/stream_executor/cuda/cuda_driver.cc:271] failed call to cuInit: CUDA_ERROR_NO_DEVICE: no CUDA-capable device is detected\n",
            "\u001b[2K     \u001b[90m━━━━━━━━━━━━━━━━━━━━━━━━━━━━━━━━━━━━━━━━\u001b[0m \u001b[32m42.8/42.8 MB\u001b[0m \u001b[31m16.0 MB/s\u001b[0m eta \u001b[36m0:00:00\u001b[0m\n",
            "\u001b[?25h\u001b[38;5;2m✔ Download and installation successful\u001b[0m\n",
            "You can now load the package via spacy.load('en_core_web_md')\n",
            "Looking in indexes: https://pypi.org/simple, https://us-python.pkg.dev/colab-wheels/public/simple/\n",
            "Requirement already satisfied: fsspec in /usr/local/lib/python3.8/dist-packages (2022.11.0)\n",
            "Looking in indexes: https://pypi.org/simple, https://us-python.pkg.dev/colab-wheels/public/simple/\n",
            "Collecting gensim==3.8.3\n",
            "  Downloading gensim-3.8.3-cp38-cp38-manylinux1_x86_64.whl (24.2 MB)\n",
            "\u001b[2K     \u001b[90m━━━━━━━━━━━━━━━━━━━━━━━━━━━━━━━━━━━━━━━━\u001b[0m \u001b[32m24.2/24.2 MB\u001b[0m \u001b[31m51.1 MB/s\u001b[0m eta \u001b[36m0:00:00\u001b[0m\n",
            "\u001b[?25hRequirement already satisfied: six>=1.5.0 in /usr/local/lib/python3.8/dist-packages (from gensim==3.8.3) (1.15.0)\n",
            "Requirement already satisfied: numpy>=1.11.3 in /usr/local/lib/python3.8/dist-packages (from gensim==3.8.3) (1.21.6)\n",
            "Requirement already satisfied: smart-open>=1.8.1 in /usr/local/lib/python3.8/dist-packages (from gensim==3.8.3) (6.3.0)\n",
            "Requirement already satisfied: scipy>=0.18.1 in /usr/local/lib/python3.8/dist-packages (from gensim==3.8.3) (1.7.3)\n",
            "Installing collected packages: gensim\n",
            "  Attempting uninstall: gensim\n",
            "    Found existing installation: gensim 4.3.0\n",
            "    Uninstalling gensim-4.3.0:\n",
            "      Successfully uninstalled gensim-4.3.0\n",
            "Successfully installed gensim-3.8.3\n"
          ]
        },
        {
          "output_type": "stream",
          "name": "stderr",
          "text": [
            "/usr/local/lib/python3.8/dist-packages/past/types/oldstr.py:5: DeprecationWarning: Using or importing the ABCs from 'collections' instead of from 'collections.abc' is deprecated since Python 3.3, and in 3.10 it will stop working\n",
            "  from collections import Iterable\n",
            "/usr/local/lib/python3.8/dist-packages/past/builtins/misc.py:4: DeprecationWarning: Using or importing the ABCs from 'collections' instead of from 'collections.abc' is deprecated since Python 3.3, and in 3.10 it will stop working\n",
            "  from collections import Mapping\n"
          ]
        },
        {
          "output_type": "stream",
          "name": "stdout",
          "text": [
            "All done. Move on to next cell.\n"
          ]
        }
      ],
      "source": [
        "#**************************************\n",
        "# Install libraries and dependencies\n",
        "#*************************************\n",
        "\n",
        "# Install libraries and dependencies\n",
        "\n",
        "\n",
        "!pip install pyLDAvis -qq \n",
        "!pip install -qq -U gensim\n",
        "!pip install spacy -qq\n",
        "!pip install matplotlib -qq\n",
        "!pip install seaborn -qq\n",
        "!python -m spacy download en_core_web_md -qq\n",
        "!pip install fsspec\n",
        "\n",
        "!pip install gensim==3.8.3\n",
        "\n",
        "import gensim #new\n",
        "\n",
        "import warnings\n",
        "warnings.filterwarnings('ignore') # this ignores warnings\n",
        "# Import\n",
        "import pandas as pd\n",
        "import matplotlib.pyplot as plt\n",
        "import seaborn as sns\n",
        "sns.set()\n",
        "import spacy\n",
        "import pyLDAvis.gensim_models\n",
        "pyLDAvis.enable_notebook()# Visualise inside a notebook\n",
        "import en_core_web_md\n",
        "from gensim.corpora.dictionary import Dictionary\n",
        "from gensim.models import LdaMulticore\n",
        "from gensim.models import CoherenceModel\n",
        "import itertools\n",
        "import os\n",
        "from google.colab import files\n",
        "from tqdm import tqdm\n",
        "\n",
        "from pathlib import Path\n",
        "import csv\n",
        "import itertools\n",
        "\n",
        "pd.set_option('display.max_columns', None) # this allows you see all columns in pandas\n",
        "\n",
        "# Our spaCy model:\n",
        "nlp = en_core_web_md.load() # this will be used to train the algorithm\n",
        "\n",
        "print(\"All done. Move on to next cell.\")"
      ]
    },
    {
      "cell_type": "markdown",
      "source": [
        "### Run the next cell, **if** you would like to see the available resources with your runtime type.\n",
        "**Otherwise, skip it.** <br>\n",
        "Under the menus, Runtime->Change Runtime Type, you can select a different processor depending on your needs. IF you find that CPU is taking too long, then change to GPU. Keep in mind that lots of GPU use will require you to upgrade your account. \n"
      ],
      "metadata": {
        "id": "4V18bxwkSWgd"
      }
    },
    {
      "cell_type": "code",
      "source": [
        "from tensorflow.python.client import device_lib\n",
        "device_lib.list_local_devices()"
      ],
      "metadata": {
        "colab": {
          "base_uri": "https://localhost:8080/"
        },
        "id": "2tYuAqqdSZE2",
        "outputId": "618266e4-8b08-427c-facf-e15e84fe9cb6"
      },
      "execution_count": null,
      "outputs": [
        {
          "output_type": "execute_result",
          "data": {
            "text/plain": [
              "[name: \"/device:CPU:0\"\n",
              " device_type: \"CPU\"\n",
              " memory_limit: 268435456\n",
              " locality {\n",
              " }\n",
              " incarnation: 4355626406354199657\n",
              " xla_global_id: -1]"
            ]
          },
          "metadata": {},
          "execution_count": 3
        }
      ]
    },
    {
      "cell_type": "markdown",
      "source": [
        "## Step 3: Import your data\n",
        "Your files will collated into one corpus that will be analyzed. You should have all your text files in the LDA_Project_Folder in the file explorer to the left. \n",
        "<br>\n",
        "Each file is read, the name, year, and content are stored in a table in the following format:\n",
        "\n",
        "|   key   |   publication_year   |  content   |\n",
        "\n",
        "### **Note for other uses**:\n",
        "The year data is obtained from the last 4 characters of the file name. This may not fit with your future data file names. You can ignore this data or remove it from the code."
      ],
      "metadata": {
        "id": "TMaiTrw1R2rO"
      }
    },
    {
      "cell_type": "code",
      "source": [
        "\"\"\"\n",
        "This should find all .txt files in working dir. \n",
        "HOWEVER, it will not find those nested in subdirectories\n",
        "\"\"\"\n",
        "\n",
        "path_of_the_directory = os.getcwd()\n",
        "ext = ('.txt')\n",
        "\n",
        "#define empty df\n",
        "reports = pd.DataFrame(columns=['file_name','publication_year','content'])\n",
        "txt_list = []\n",
        "txt_file_name = []\n",
        "year_list = []\n",
        "content_list = []\n",
        "#get all txt files in the Drive \n",
        "for files in os.listdir(path_of_the_directory):\n",
        "\n",
        "  if files.endswith(ext):\n",
        "      print(files)\n",
        "      txt_list.append(files)\n",
        "\n",
        "      # Creating a text file to write the output\n",
        "      file_name = ((files.rsplit( \".\", 1)[0]))\n",
        "      txt_file_name.append(file_name)\n",
        "\n",
        "      #get year\n",
        "      year_value = ((file_name.rsplit( \"_\")[-1]))\n",
        "      year_list.append(year_value)\n",
        "\n",
        "      #read files into list\n",
        "      temp_read = Path(files).read_text()\n",
        "      content_list.append(temp_read)\n",
        "\n",
        "  else:\n",
        "      continue\n",
        "#use to gather lists in a temp df\n",
        "temp_df = pd.DataFrame.from_records(itertools.zip_longest(txt_file_name, year_list, content_list), columns=['file_name','publication_year','content'])\n",
        "\n",
        "# take temp_df and concat with perm_df\n",
        "reports = pd.concat([reports, temp_df], ignore_index=True)\n",
        "\n",
        "# change this to match your content column name. \n",
        "reports['content'] = reports['content'].astype(str)\n",
        "print()\n",
        "print('The following is our collected data')\n",
        "reports.head()"
      ],
      "metadata": {
        "id": "imEOz4n4bDy8",
        "colab": {
          "base_uri": "https://localhost:8080/",
          "height": 403
        },
        "outputId": "dcd1e461-b181-4dc6-8d95-9a3808331fad"
      },
      "execution_count": 4,
      "outputs": [
        {
          "output_type": "stream",
          "name": "stdout",
          "text": [
            "dalhousiegazette_volume120_issue11_november_26_1987.txt\n",
            "dalhousiegazette_volume120_issue1_september_10_1987 copy.txt\n",
            "dalhousiegazette_volume120_issue2_september_17_1987.txt\n",
            "dalhousiegazette_volume120_issue3_september_24_1987.txt\n",
            "dalhousiegazette_volume120_issue4_october_1_1987.txt\n",
            "dalhousiegazette_volume120_issue5_october_8_1987.txt\n",
            "dalhousiegazette_volume120_issue8_november_5_1987.txt\n",
            "dalhousiegazette_volume120_issue9_november_12_1987.txt\n",
            "dalhousiegazette_volume120_issue7_october_29_1987.txt\n",
            "\n",
            "The following is our collected data\n"
          ]
        },
        {
          "output_type": "execute_result",
          "data": {
            "text/plain": [
              "                                           file_name publication_year  \\\n",
              "0  dalhousiegazette_volume120_issue11_november_26...             1987   \n",
              "1  dalhousiegazette_volume120_issue1_september_10...        1987 copy   \n",
              "2  dalhousiegazette_volume120_issue2_september_17...             1987   \n",
              "3  dalhousiegazette_volume120_issue3_september_24...             1987   \n",
              "4   dalhousiegazette_volume120_issue4_october_1_1987             1987   \n",
              "\n",
              "                                             content  \n",
              "0   \\n\\n \\n \\n\\nStill an f-word:\\nFeminism\\n\\nMy ...  \n",
              "1  by Michelle Lalonde\\nCanadian University Press...  \n",
              "2   \\n\\n \\n\\nMUSIC FROM A\\nSPOKESMAN—\\n\\nA glimps...  \n",
              "3  LEANING\\nLEFT\\n\\nBY CHRIS LAWSON\\nREPRINTED FR...  \n",
              "4  A\\nRINT\\nCANA\\n\\nM\\nT\\n\\ney\\n\\n0\\nE\\n\\nR\\n\\nL\\...  "
            ],
            "text/html": [
              "\n",
              "  <div id=\"df-dc523a06-f098-4262-b742-2de3b41649ea\">\n",
              "    <div class=\"colab-df-container\">\n",
              "      <div>\n",
              "<style scoped>\n",
              "    .dataframe tbody tr th:only-of-type {\n",
              "        vertical-align: middle;\n",
              "    }\n",
              "\n",
              "    .dataframe tbody tr th {\n",
              "        vertical-align: top;\n",
              "    }\n",
              "\n",
              "    .dataframe thead th {\n",
              "        text-align: right;\n",
              "    }\n",
              "</style>\n",
              "<table border=\"1\" class=\"dataframe\">\n",
              "  <thead>\n",
              "    <tr style=\"text-align: right;\">\n",
              "      <th></th>\n",
              "      <th>file_name</th>\n",
              "      <th>publication_year</th>\n",
              "      <th>content</th>\n",
              "    </tr>\n",
              "  </thead>\n",
              "  <tbody>\n",
              "    <tr>\n",
              "      <th>0</th>\n",
              "      <td>dalhousiegazette_volume120_issue11_november_26...</td>\n",
              "      <td>1987</td>\n",
              "      <td>\\n\\n \\n \\n\\nStill an f-word:\\nFeminism\\n\\nMy ...</td>\n",
              "    </tr>\n",
              "    <tr>\n",
              "      <th>1</th>\n",
              "      <td>dalhousiegazette_volume120_issue1_september_10...</td>\n",
              "      <td>1987 copy</td>\n",
              "      <td>by Michelle Lalonde\\nCanadian University Press...</td>\n",
              "    </tr>\n",
              "    <tr>\n",
              "      <th>2</th>\n",
              "      <td>dalhousiegazette_volume120_issue2_september_17...</td>\n",
              "      <td>1987</td>\n",
              "      <td>\\n\\n \\n\\nMUSIC FROM A\\nSPOKESMAN—\\n\\nA glimps...</td>\n",
              "    </tr>\n",
              "    <tr>\n",
              "      <th>3</th>\n",
              "      <td>dalhousiegazette_volume120_issue3_september_24...</td>\n",
              "      <td>1987</td>\n",
              "      <td>LEANING\\nLEFT\\n\\nBY CHRIS LAWSON\\nREPRINTED FR...</td>\n",
              "    </tr>\n",
              "    <tr>\n",
              "      <th>4</th>\n",
              "      <td>dalhousiegazette_volume120_issue4_october_1_1987</td>\n",
              "      <td>1987</td>\n",
              "      <td>A\\nRINT\\nCANA\\n\\nM\\nT\\n\\ney\\n\\n0\\nE\\n\\nR\\n\\nL\\...</td>\n",
              "    </tr>\n",
              "  </tbody>\n",
              "</table>\n",
              "</div>\n",
              "      <button class=\"colab-df-convert\" onclick=\"convertToInteractive('df-dc523a06-f098-4262-b742-2de3b41649ea')\"\n",
              "              title=\"Convert this dataframe to an interactive table.\"\n",
              "              style=\"display:none;\">\n",
              "        \n",
              "  <svg xmlns=\"http://www.w3.org/2000/svg\" height=\"24px\"viewBox=\"0 0 24 24\"\n",
              "       width=\"24px\">\n",
              "    <path d=\"M0 0h24v24H0V0z\" fill=\"none\"/>\n",
              "    <path d=\"M18.56 5.44l.94 2.06.94-2.06 2.06-.94-2.06-.94-.94-2.06-.94 2.06-2.06.94zm-11 1L8.5 8.5l.94-2.06 2.06-.94-2.06-.94L8.5 2.5l-.94 2.06-2.06.94zm10 10l.94 2.06.94-2.06 2.06-.94-2.06-.94-.94-2.06-.94 2.06-2.06.94z\"/><path d=\"M17.41 7.96l-1.37-1.37c-.4-.4-.92-.59-1.43-.59-.52 0-1.04.2-1.43.59L10.3 9.45l-7.72 7.72c-.78.78-.78 2.05 0 2.83L4 21.41c.39.39.9.59 1.41.59.51 0 1.02-.2 1.41-.59l7.78-7.78 2.81-2.81c.8-.78.8-2.07 0-2.86zM5.41 20L4 18.59l7.72-7.72 1.47 1.35L5.41 20z\"/>\n",
              "  </svg>\n",
              "      </button>\n",
              "      \n",
              "  <style>\n",
              "    .colab-df-container {\n",
              "      display:flex;\n",
              "      flex-wrap:wrap;\n",
              "      gap: 12px;\n",
              "    }\n",
              "\n",
              "    .colab-df-convert {\n",
              "      background-color: #E8F0FE;\n",
              "      border: none;\n",
              "      border-radius: 50%;\n",
              "      cursor: pointer;\n",
              "      display: none;\n",
              "      fill: #1967D2;\n",
              "      height: 32px;\n",
              "      padding: 0 0 0 0;\n",
              "      width: 32px;\n",
              "    }\n",
              "\n",
              "    .colab-df-convert:hover {\n",
              "      background-color: #E2EBFA;\n",
              "      box-shadow: 0px 1px 2px rgba(60, 64, 67, 0.3), 0px 1px 3px 1px rgba(60, 64, 67, 0.15);\n",
              "      fill: #174EA6;\n",
              "    }\n",
              "\n",
              "    [theme=dark] .colab-df-convert {\n",
              "      background-color: #3B4455;\n",
              "      fill: #D2E3FC;\n",
              "    }\n",
              "\n",
              "    [theme=dark] .colab-df-convert:hover {\n",
              "      background-color: #434B5C;\n",
              "      box-shadow: 0px 1px 3px 1px rgba(0, 0, 0, 0.15);\n",
              "      filter: drop-shadow(0px 1px 2px rgba(0, 0, 0, 0.3));\n",
              "      fill: #FFFFFF;\n",
              "    }\n",
              "  </style>\n",
              "\n",
              "      <script>\n",
              "        const buttonEl =\n",
              "          document.querySelector('#df-dc523a06-f098-4262-b742-2de3b41649ea button.colab-df-convert');\n",
              "        buttonEl.style.display =\n",
              "          google.colab.kernel.accessAllowed ? 'block' : 'none';\n",
              "\n",
              "        async function convertToInteractive(key) {\n",
              "          const element = document.querySelector('#df-dc523a06-f098-4262-b742-2de3b41649ea');\n",
              "          const dataTable =\n",
              "            await google.colab.kernel.invokeFunction('convertToInteractive',\n",
              "                                                     [key], {});\n",
              "          if (!dataTable) return;\n",
              "\n",
              "          const docLinkHtml = 'Like what you see? Visit the ' +\n",
              "            '<a target=\"_blank\" href=https://colab.research.google.com/notebooks/data_table.ipynb>data table notebook</a>'\n",
              "            + ' to learn more about interactive tables.';\n",
              "          element.innerHTML = '';\n",
              "          dataTable['output_type'] = 'display_data';\n",
              "          await google.colab.output.renderOutput(dataTable, element);\n",
              "          const docLink = document.createElement('div');\n",
              "          docLink.innerHTML = docLinkHtml;\n",
              "          element.appendChild(docLink);\n",
              "        }\n",
              "      </script>\n",
              "    </div>\n",
              "  </div>\n",
              "  "
            ]
          },
          "metadata": {},
          "execution_count": 4
        }
      ]
    },
    {
      "cell_type": "markdown",
      "metadata": {
        "id": "69dQL6S7NJm-"
      },
      "source": [
        "## Step 4: Set the number of n_grams here\n",
        "Ngrams, (pronounced n-grams) are combinations of words, such as 'roller skate'. In this case, 'roller skate' is a bi-gram, consisting of two words that help define a very specific thing. \n",
        "Tri-grams have three words, such as 'Nova Scotia government'. You can preserve entire phrases in this way. \n",
        " \n",
        "In the following code, look for *number_of_n=*. You can change the number. It is currently set at 3. \n"
      ]
    },
    {
      "cell_type": "code",
      "execution_count": 10,
      "metadata": {
        "colab": {
          "base_uri": "https://localhost:8080/"
        },
        "id": "kq4yqSuTWnYU",
        "outputId": "cb7c6805-865c-4042-b698-24b23a3efb9a"
      },
      "outputs": [
        {
          "output_type": "stream",
          "name": "stdout",
          "text": [
            "['There', 'was', 'a', 'cloud', 'computing', 'conference', 'about', 'big', 'data', 'and', 'natural', 'language', 'processing', 'There was', 'was a', 'a cloud', 'cloud computing', 'computing conference', 'conference about', 'about big', 'big data', 'data and', 'and natural', 'natural language', 'language processing', 'There was a', 'was a cloud', 'a cloud computing', 'cloud computing conference', 'computing conference about', 'conference about big', 'about big data', 'big data and', 'data and natural', 'and natural language', 'natural language processing']\n"
          ]
        }
      ],
      "source": [
        "from nltk import ngrams\n",
        "\n",
        "def compile_ngrams(text, number_of_n=3, include_unigrams=True):\n",
        "  ngram_list = []\n",
        "  # number_of_n controls up to how many n we build an ngram for\n",
        "  # 2 being bigrams, 3 being trigrams, ect.\n",
        "  for n in range(number_of_n):\n",
        "    if n == 0 and not include_unigrams:\n",
        "      continue\n",
        "    for ngram in ngrams(text.split(), n + 1):\n",
        "      ngram_list.append(' '.join(ngram))\n",
        "  return ngram_list\n",
        "\n",
        "\"\"\"this is a test to make sure the function works\"\"\"\n",
        "print(compile_ngrams(\"There was a cloud computing conference about big data and natural language processing\"))"
      ]
    },
    {
      "cell_type": "markdown",
      "source": [
        "## Step 5: Data cleaning, setting your controlled vocabulary, and tokenizing\n",
        "- [ ] discuss author_assigned_keywords - these are terms that should be preserved together that may be contextual for your field, topic, etc. \n",
        "- [ ] this step also removes words that are not helpful for determining topics. Such as pronouns, conjunctions, punctuation etc. \n",
        "- [ ] explore the dictionary - how might this be explorable? useful? critical?"
      ],
      "metadata": {
        "id": "fHxHrVNFUJE8"
      }
    },
    {
      "cell_type": "code",
      "execution_count": 11,
      "metadata": {
        "colab": {
          "base_uri": "https://localhost:8080/",
          "height": 514
        },
        "id": "tFIuj3RwWGv9",
        "outputId": "e92ce050-8b77-4517-d447-e12c40463b3b"
      },
      "outputs": [
        {
          "output_type": "error",
          "ename": "KeyError",
          "evalue": "ignored",
          "traceback": [
            "\u001b[0;31m---------------------------------------------------------------------------\u001b[0m",
            "\u001b[0;31mKeyError\u001b[0m                                  Traceback (most recent call last)",
            "\u001b[0;32m/usr/local/lib/python3.8/dist-packages/pandas/core/indexes/base.py\u001b[0m in \u001b[0;36mget_loc\u001b[0;34m(self, key, method, tolerance)\u001b[0m\n\u001b[1;32m   3360\u001b[0m             \u001b[0;32mtry\u001b[0m\u001b[0;34m:\u001b[0m\u001b[0;34m\u001b[0m\u001b[0;34m\u001b[0m\u001b[0m\n\u001b[0;32m-> 3361\u001b[0;31m                 \u001b[0;32mreturn\u001b[0m \u001b[0mself\u001b[0m\u001b[0;34m.\u001b[0m\u001b[0m_engine\u001b[0m\u001b[0;34m.\u001b[0m\u001b[0mget_loc\u001b[0m\u001b[0;34m(\u001b[0m\u001b[0mcasted_key\u001b[0m\u001b[0;34m)\u001b[0m\u001b[0;34m\u001b[0m\u001b[0;34m\u001b[0m\u001b[0m\n\u001b[0m\u001b[1;32m   3362\u001b[0m             \u001b[0;32mexcept\u001b[0m \u001b[0mKeyError\u001b[0m \u001b[0;32mas\u001b[0m \u001b[0merr\u001b[0m\u001b[0;34m:\u001b[0m\u001b[0;34m\u001b[0m\u001b[0;34m\u001b[0m\u001b[0m\n",
            "\u001b[0;32m/usr/local/lib/python3.8/dist-packages/pandas/_libs/index.pyx\u001b[0m in \u001b[0;36mpandas._libs.index.IndexEngine.get_loc\u001b[0;34m()\u001b[0m\n",
            "\u001b[0;32m/usr/local/lib/python3.8/dist-packages/pandas/_libs/index.pyx\u001b[0m in \u001b[0;36mpandas._libs.index.IndexEngine.get_loc\u001b[0;34m()\u001b[0m\n",
            "\u001b[0;32mpandas/_libs/hashtable_class_helper.pxi\u001b[0m in \u001b[0;36mpandas._libs.hashtable.PyObjectHashTable.get_item\u001b[0;34m()\u001b[0m\n",
            "\u001b[0;32mpandas/_libs/hashtable_class_helper.pxi\u001b[0m in \u001b[0;36mpandas._libs.hashtable.PyObjectHashTable.get_item\u001b[0;34m()\u001b[0m\n",
            "\u001b[0;31mKeyError\u001b[0m: 'content'",
            "\nThe above exception was the direct cause of the following exception:\n",
            "\u001b[0;31mKeyError\u001b[0m                                  Traceback (most recent call last)",
            "\u001b[0;32m<ipython-input-11-c89869e1ef76>\u001b[0m in \u001b[0;36m<module>\u001b[0;34m\u001b[0m\n\u001b[1;32m      6\u001b[0m \u001b[0mauthor_assigned_keywords\u001b[0m \u001b[0;34m=\u001b[0m \u001b[0;34m[\u001b[0m\u001b[0;34m\"dalhousie university\"\u001b[0m\u001b[0;34m,\u001b[0m \u001b[0;34m\"dalhousie gazette\"\u001b[0m\u001b[0;34m]\u001b[0m \u001b[0;31m#place anything in here in quotes\u001b[0m\u001b[0;34m\u001b[0m\u001b[0;34m\u001b[0m\u001b[0m\n\u001b[1;32m      7\u001b[0m \u001b[0;34m\u001b[0m\u001b[0m\n\u001b[0;32m----> 8\u001b[0;31m \u001b[0;32mfor\u001b[0m \u001b[0msummary\u001b[0m \u001b[0;32min\u001b[0m \u001b[0mnlp\u001b[0m\u001b[0;34m.\u001b[0m\u001b[0mpipe\u001b[0m\u001b[0;34m(\u001b[0m\u001b[0mreports\u001b[0m\u001b[0;34m[\u001b[0m\u001b[0;34m'content'\u001b[0m\u001b[0;34m]\u001b[0m\u001b[0;34m)\u001b[0m\u001b[0;34m:\u001b[0m\u001b[0;34m\u001b[0m\u001b[0;34m\u001b[0m\u001b[0m\n\u001b[0m\u001b[1;32m      9\u001b[0m    \u001b[0;31m# build up tokens here\u001b[0m\u001b[0;34m\u001b[0m\u001b[0;34m\u001b[0m\u001b[0;34m\u001b[0m\u001b[0m\n\u001b[1;32m     10\u001b[0m    \u001b[0;31m# using the authors heuristics:\u001b[0m\u001b[0;34m\u001b[0m\u001b[0;34m\u001b[0m\u001b[0;34m\u001b[0m\u001b[0m\n",
            "\u001b[0;32m/usr/local/lib/python3.8/dist-packages/pandas/core/frame.py\u001b[0m in \u001b[0;36m__getitem__\u001b[0;34m(self, key)\u001b[0m\n\u001b[1;32m   3456\u001b[0m             \u001b[0;32mif\u001b[0m \u001b[0mself\u001b[0m\u001b[0;34m.\u001b[0m\u001b[0mcolumns\u001b[0m\u001b[0;34m.\u001b[0m\u001b[0mnlevels\u001b[0m \u001b[0;34m>\u001b[0m \u001b[0;36m1\u001b[0m\u001b[0;34m:\u001b[0m\u001b[0;34m\u001b[0m\u001b[0;34m\u001b[0m\u001b[0m\n\u001b[1;32m   3457\u001b[0m                 \u001b[0;32mreturn\u001b[0m \u001b[0mself\u001b[0m\u001b[0;34m.\u001b[0m\u001b[0m_getitem_multilevel\u001b[0m\u001b[0;34m(\u001b[0m\u001b[0mkey\u001b[0m\u001b[0;34m)\u001b[0m\u001b[0;34m\u001b[0m\u001b[0;34m\u001b[0m\u001b[0m\n\u001b[0;32m-> 3458\u001b[0;31m             \u001b[0mindexer\u001b[0m \u001b[0;34m=\u001b[0m \u001b[0mself\u001b[0m\u001b[0;34m.\u001b[0m\u001b[0mcolumns\u001b[0m\u001b[0;34m.\u001b[0m\u001b[0mget_loc\u001b[0m\u001b[0;34m(\u001b[0m\u001b[0mkey\u001b[0m\u001b[0;34m)\u001b[0m\u001b[0;34m\u001b[0m\u001b[0;34m\u001b[0m\u001b[0m\n\u001b[0m\u001b[1;32m   3459\u001b[0m             \u001b[0;32mif\u001b[0m \u001b[0mis_integer\u001b[0m\u001b[0;34m(\u001b[0m\u001b[0mindexer\u001b[0m\u001b[0;34m)\u001b[0m\u001b[0;34m:\u001b[0m\u001b[0;34m\u001b[0m\u001b[0;34m\u001b[0m\u001b[0m\n\u001b[1;32m   3460\u001b[0m                 \u001b[0mindexer\u001b[0m \u001b[0;34m=\u001b[0m \u001b[0;34m[\u001b[0m\u001b[0mindexer\u001b[0m\u001b[0;34m]\u001b[0m\u001b[0;34m\u001b[0m\u001b[0;34m\u001b[0m\u001b[0m\n",
            "\u001b[0;32m/usr/local/lib/python3.8/dist-packages/pandas/core/indexes/base.py\u001b[0m in \u001b[0;36mget_loc\u001b[0;34m(self, key, method, tolerance)\u001b[0m\n\u001b[1;32m   3361\u001b[0m                 \u001b[0;32mreturn\u001b[0m \u001b[0mself\u001b[0m\u001b[0;34m.\u001b[0m\u001b[0m_engine\u001b[0m\u001b[0;34m.\u001b[0m\u001b[0mget_loc\u001b[0m\u001b[0;34m(\u001b[0m\u001b[0mcasted_key\u001b[0m\u001b[0;34m)\u001b[0m\u001b[0;34m\u001b[0m\u001b[0;34m\u001b[0m\u001b[0m\n\u001b[1;32m   3362\u001b[0m             \u001b[0;32mexcept\u001b[0m \u001b[0mKeyError\u001b[0m \u001b[0;32mas\u001b[0m \u001b[0merr\u001b[0m\u001b[0;34m:\u001b[0m\u001b[0;34m\u001b[0m\u001b[0;34m\u001b[0m\u001b[0m\n\u001b[0;32m-> 3363\u001b[0;31m                 \u001b[0;32mraise\u001b[0m \u001b[0mKeyError\u001b[0m\u001b[0;34m(\u001b[0m\u001b[0mkey\u001b[0m\u001b[0;34m)\u001b[0m \u001b[0;32mfrom\u001b[0m \u001b[0merr\u001b[0m\u001b[0;34m\u001b[0m\u001b[0;34m\u001b[0m\u001b[0m\n\u001b[0m\u001b[1;32m   3364\u001b[0m \u001b[0;34m\u001b[0m\u001b[0m\n\u001b[1;32m   3365\u001b[0m         \u001b[0;32mif\u001b[0m \u001b[0mis_scalar\u001b[0m\u001b[0;34m(\u001b[0m\u001b[0mkey\u001b[0m\u001b[0;34m)\u001b[0m \u001b[0;32mand\u001b[0m \u001b[0misna\u001b[0m\u001b[0;34m(\u001b[0m\u001b[0mkey\u001b[0m\u001b[0;34m)\u001b[0m \u001b[0;32mand\u001b[0m \u001b[0;32mnot\u001b[0m \u001b[0mself\u001b[0m\u001b[0;34m.\u001b[0m\u001b[0mhasnans\u001b[0m\u001b[0;34m:\u001b[0m\u001b[0;34m\u001b[0m\u001b[0;34m\u001b[0m\u001b[0m\n",
            "\u001b[0;31mKeyError\u001b[0m: 'content'"
          ]
        }
      ],
      "source": [
        "# Tags I want to remove from the text\n",
        "removal= ['ADV','PRON','CCONJ','PUNCT','PART','DET','ADP','SPACE', 'NUM', 'SYM']\n",
        "tokens = []\n",
        "\n",
        "# Words I really care about that should certainly be in the dictionary\n",
        "author_assigned_keywords = [\"dalhousie university\", \"dalhousie gazette\"] #place anything in here in quotes\n",
        "\n",
        "for summary in nlp.pipe(reports['content']):\n",
        "   # build up tokens here\n",
        "   # using the authors heuristics:\n",
        "   unigrams = [token.lemma_.lower() for token in summary if token.pos_ not in removal and not token.is_stop and token.is_alpha]\n",
        "   # using ngrams\n",
        "   # we can use the proj_tok clean text as the \"paragraph\"\n",
        "   proj_tok = compile_ngrams(\" \".join(unigrams), number_of_n=2, include_unigrams=True)\n",
        "   # using \"author assigned keywords\" by checking if they are in the text\n",
        "   proj_tok += [keyword for keyword in author_assigned_keywords if keyword in summary.text]\n",
        "   tokens.append(proj_tok)\n",
        "\n",
        "\n",
        "# Add tokens to new column\n",
        "reports['tokens'] = tokens \n",
        "\n",
        "# Create dictionary\n",
        "# Apply the Dictionary Object from Gensim, which maps each word to their unique ID:\n",
        "dictionary = Dictionary(reports['tokens'])\n",
        "print(dictionary.token2id)\n",
        "\n",
        "#see the dataframe with a new column called tokens\n",
        "reports"
      ]
    },
    {
      "cell_type": "markdown",
      "metadata": {
        "id": "-pP3VxCLNJm_"
      },
      "source": [
        "##Step 6: Set number of topics and run the LDA analysis\n",
        "You can change the number of topics.\n",
        "Look for `num_topics =`. It is located in the line starting with `lda_model = `\n",
        "\n",
        "### filter dictionary\n",
        "For small corpora, you may want to turn this off. In the 6th line of code, you will see `dictionary.filter_extremes...`\n",
        "\n",
        "You can remove the `#` to make this active, but only for very large corpora.\n",
        "\n",
        "\n",
        "This step also saves out an interactive .html file. Look for this in your working directory.\n",
        "<br>\n",
        "#### reading the pyLDAvis html fille:\n",
        "source: https://stackoverflow.com/questions/50726713/meaning-of-bar-width-for-pyldavis-for-lambda-0\n",
        "\n",
        "- Values of lambda that are very close to zero will show terms that are more specific for a chosen topic. Meaning that you will see terms that are \"important\" for that specific topic but not necessarily \"important\" for the whole corpus.\n",
        "\n",
        "- Values of lambda that are very close to one will show those terms that have the highest ratio between frequency of the terms for that specific topic and the overall frequency of the terms from the corpus.\n"
      ]
    },
    {
      "cell_type": "code",
      "execution_count": 7,
      "metadata": {
        "id": "GeJVsC4jWWEy"
      },
      "outputs": [],
      "source": [
        "\n",
        "# Filter dictionary\n",
        "\"\"\"\n",
        "the following dictionary filter can result in no terms. adjust to lower values for smaller documents. \n",
        "see: https://stackoverflow.com/questions/40840731/valueerror-cannot-compute-lda-over-an-empty-collection-no-terms\n",
        "\"\"\"\n",
        "#dictionary.filter_extremes(no_below=5, no_above=0.2, keep_n=1000)\n",
        "\n",
        "# Create corpus\n",
        "corpus = [dictionary.doc2bow(doc) for doc in reports['tokens']]\n",
        "\n",
        "# Optimal LDA model building\n",
        "lda_model = LdaMulticore(corpus=corpus, id2word=dictionary, iterations=100, num_topics=5, workers = 4, passes=100)\n",
        "\n",
        "# Print topics\n",
        "lda_model.print_topics(-1)\n",
        "\n",
        "# Where does a text belong to\n",
        "lda_model[corpus][0]\n",
        "reports['content'][0]\n",
        "\n",
        "# Visualize topics\n",
        "lda_display = pyLDAvis.gensim_models.prepare(lda_model, corpus, dictionary)\n",
        "pyLDAvis.display(lda_display)\n",
        "\n",
        "# Save the report\n",
        "pyLDAvis.save_html(lda_display, 'index.html')"
      ]
    },
    {
      "cell_type": "markdown",
      "source": [
        "## Step 7: Print topics\n",
        "- [ ] how might someone use this? \n",
        "- [ ] cut-n-paste into excel\n",
        "- [ ] include in a report\n"
      ],
      "metadata": {
        "id": "9225HIwYV90L"
      }
    },
    {
      "cell_type": "code",
      "source": [
        "# Where does a text belong to\n",
        "temp_clusters = []\n",
        "for i in range(len(lda_model[corpus])):\n",
        "  temp_clusters.append(lda_model[corpus][i][0])\n",
        "\n",
        "df2 = pd.DataFrame(temp_clusters, columns=['cluster', 'score'])\n",
        "\n",
        "#let's see those clusters and the some tokens\n",
        "#for i in range(0, lda_model.num_topics-1):\n",
        "for i in range(lda_model.num_topics):\n",
        "  print (\"cluster: \" + str(i+1) + \"  \" + str( lda_model.print_topic(i)))\n",
        "\n",
        "#create an ordered list and join to reports\n",
        "reports = pd.concat([reports,df2], axis=1)\n",
        "\n",
        "#drop the content column as you already have this in the originall l.txt file\n",
        "reports = reports.drop(columns='content')\n",
        "\n",
        "#reposition cluster and score\n",
        "reports = reports[['file_name', 'publication_year', 'cluster', 'score', 'tokens']]\n",
        "\n",
        "# correct cluster number as ordinal\n",
        "reports['cluster'] = reports['cluster']+1\n",
        "\n",
        "#export as excel file\n",
        "reports.to_csv(\"LDA_with_clusters.csv\", index=False) \n",
        "\n",
        "#let's see it!\n",
        "reports\n"
      ],
      "metadata": {
        "colab": {
          "base_uri": "https://localhost:8080/",
          "height": 441
        },
        "id": "PhEBLPNvpodw",
        "outputId": "0784a228-0382-415c-a806-c560cdbee5e8"
      },
      "execution_count": 8,
      "outputs": [
        {
          "output_type": "stream",
          "name": "stdout",
          "text": [
            "cluster: 1  0.002*\"safe sex\" + 0.002*\"gay people\" + 0.002*\"mcneil say\" + 0.001*\"aids gay\" + 0.001*\"gay disease\" + 0.001*\"university student\" + 0.001*\"student union\" + 0.001*\"year student\" + 0.001*\"contract aids\" + 0.001*\"people think\"\n",
            "cluster: 2  0.001*\"dalhousie gazette\" + 0.001*\"gazette thursday\" + 0.001*\"nova scotia\" + 0.001*\"darvesh say\" + 0.001*\"rm sub\" + 0.001*\"thursday november\" + 0.001*\"dalhousie university\" + 0.001*\"dal sub\" + 0.001*\"man woman\" + 0.001*\"high school\"\n",
            "cluster: 3  0.002*\"academic freedom\" + 0.002*\"innu people\" + 0.001*\"rights commission\" + 0.001*\"human rights\" + 0.001*\"science department\" + 0.001*\"political science\" + 0.001*\"say mandel\" + 0.001*\"mandel case\" + 0.001*\"caut censure\" + 0.001*\"track position\"\n",
            "cluster: 4  0.002*\"south africa\" + 0.002*\"say regehr\" + 0.001*\"arm industry\" + 0.001*\"external affairs\" + 0.001*\"national universities\" + 0.001*\"universities week\" + 0.001*\"middle level\" + 0.001*\"arms canada\" + 0.001*\"private sector\" + 0.001*\"national forum\"\n",
            "cluster: 5  0.001*\"nuclear weapon\" + 0.001*\"way life\" + 0.001*\"war machine\" + 0.001*\"world war\" + 0.001*\"superpower war\" + 0.001*\"long range\" + 0.001*\"gifford say\" + 0.001*\"nuclear arm\" + 0.001*\"soviet union\" + 0.001*\"social work\"\n"
          ]
        },
        {
          "output_type": "execute_result",
          "data": {
            "text/plain": [
              "                                           file_name publication_year  \\\n",
              "0  dalhousiegazette_volume120_issue11_november_26...             1987   \n",
              "1  dalhousiegazette_volume120_issue1_september_10...        1987 copy   \n",
              "2  dalhousiegazette_volume120_issue2_september_17...             1987   \n",
              "3  dalhousiegazette_volume120_issue3_september_24...             1987   \n",
              "4   dalhousiegazette_volume120_issue4_october_1_1987             1987   \n",
              "5   dalhousiegazette_volume120_issue5_october_8_1987             1987   \n",
              "6  dalhousiegazette_volume120_issue8_november_5_1987             1987   \n",
              "7  dalhousiegazette_volume120_issue9_november_12_...             1987   \n",
              "8  dalhousiegazette_volume120_issue7_october_29_1987             1987   \n",
              "\n",
              "   cluster     score                                             tokens  \n",
              "0        2  0.999877  [f word, word feminism, feminism mother, mothe...  \n",
              "1        2  0.999174  [michelle lalonde, lalonde canadian, canadian ...  \n",
              "2        2  0.999107  [music spokesman, spokesman glimpse, glimpse b...  \n",
              "3        3  0.999149  [leaning left, left chris, chris lawson, lawso...  \n",
              "4        1  0.999067  [rint cana, cana m, m t, t ey, ey e, e r, r l,...  \n",
              "5        4  0.998668  [canada compete, compete global, global arm, a...  \n",
              "6        3  0.998785  [ntesin beth, beth ryan, ryan national, nation...  \n",
              "7        5  0.999010  [an ss, ss page, page veteran, veteran bombing...  \n",
              "8        4  0.998216  [student student, student t, t focus, focus po...  "
            ],
            "text/html": [
              "\n",
              "  <div id=\"df-9ffa2a56-0b0f-464b-9618-13b73820ef00\">\n",
              "    <div class=\"colab-df-container\">\n",
              "      <div>\n",
              "<style scoped>\n",
              "    .dataframe tbody tr th:only-of-type {\n",
              "        vertical-align: middle;\n",
              "    }\n",
              "\n",
              "    .dataframe tbody tr th {\n",
              "        vertical-align: top;\n",
              "    }\n",
              "\n",
              "    .dataframe thead th {\n",
              "        text-align: right;\n",
              "    }\n",
              "</style>\n",
              "<table border=\"1\" class=\"dataframe\">\n",
              "  <thead>\n",
              "    <tr style=\"text-align: right;\">\n",
              "      <th></th>\n",
              "      <th>file_name</th>\n",
              "      <th>publication_year</th>\n",
              "      <th>cluster</th>\n",
              "      <th>score</th>\n",
              "      <th>tokens</th>\n",
              "    </tr>\n",
              "  </thead>\n",
              "  <tbody>\n",
              "    <tr>\n",
              "      <th>0</th>\n",
              "      <td>dalhousiegazette_volume120_issue11_november_26...</td>\n",
              "      <td>1987</td>\n",
              "      <td>2</td>\n",
              "      <td>0.999877</td>\n",
              "      <td>[f word, word feminism, feminism mother, mothe...</td>\n",
              "    </tr>\n",
              "    <tr>\n",
              "      <th>1</th>\n",
              "      <td>dalhousiegazette_volume120_issue1_september_10...</td>\n",
              "      <td>1987 copy</td>\n",
              "      <td>2</td>\n",
              "      <td>0.999174</td>\n",
              "      <td>[michelle lalonde, lalonde canadian, canadian ...</td>\n",
              "    </tr>\n",
              "    <tr>\n",
              "      <th>2</th>\n",
              "      <td>dalhousiegazette_volume120_issue2_september_17...</td>\n",
              "      <td>1987</td>\n",
              "      <td>2</td>\n",
              "      <td>0.999107</td>\n",
              "      <td>[music spokesman, spokesman glimpse, glimpse b...</td>\n",
              "    </tr>\n",
              "    <tr>\n",
              "      <th>3</th>\n",
              "      <td>dalhousiegazette_volume120_issue3_september_24...</td>\n",
              "      <td>1987</td>\n",
              "      <td>3</td>\n",
              "      <td>0.999149</td>\n",
              "      <td>[leaning left, left chris, chris lawson, lawso...</td>\n",
              "    </tr>\n",
              "    <tr>\n",
              "      <th>4</th>\n",
              "      <td>dalhousiegazette_volume120_issue4_october_1_1987</td>\n",
              "      <td>1987</td>\n",
              "      <td>1</td>\n",
              "      <td>0.999067</td>\n",
              "      <td>[rint cana, cana m, m t, t ey, ey e, e r, r l,...</td>\n",
              "    </tr>\n",
              "    <tr>\n",
              "      <th>5</th>\n",
              "      <td>dalhousiegazette_volume120_issue5_october_8_1987</td>\n",
              "      <td>1987</td>\n",
              "      <td>4</td>\n",
              "      <td>0.998668</td>\n",
              "      <td>[canada compete, compete global, global arm, a...</td>\n",
              "    </tr>\n",
              "    <tr>\n",
              "      <th>6</th>\n",
              "      <td>dalhousiegazette_volume120_issue8_november_5_1987</td>\n",
              "      <td>1987</td>\n",
              "      <td>3</td>\n",
              "      <td>0.998785</td>\n",
              "      <td>[ntesin beth, beth ryan, ryan national, nation...</td>\n",
              "    </tr>\n",
              "    <tr>\n",
              "      <th>7</th>\n",
              "      <td>dalhousiegazette_volume120_issue9_november_12_...</td>\n",
              "      <td>1987</td>\n",
              "      <td>5</td>\n",
              "      <td>0.999010</td>\n",
              "      <td>[an ss, ss page, page veteran, veteran bombing...</td>\n",
              "    </tr>\n",
              "    <tr>\n",
              "      <th>8</th>\n",
              "      <td>dalhousiegazette_volume120_issue7_october_29_1987</td>\n",
              "      <td>1987</td>\n",
              "      <td>4</td>\n",
              "      <td>0.998216</td>\n",
              "      <td>[student student, student t, t focus, focus po...</td>\n",
              "    </tr>\n",
              "  </tbody>\n",
              "</table>\n",
              "</div>\n",
              "      <button class=\"colab-df-convert\" onclick=\"convertToInteractive('df-9ffa2a56-0b0f-464b-9618-13b73820ef00')\"\n",
              "              title=\"Convert this dataframe to an interactive table.\"\n",
              "              style=\"display:none;\">\n",
              "        \n",
              "  <svg xmlns=\"http://www.w3.org/2000/svg\" height=\"24px\"viewBox=\"0 0 24 24\"\n",
              "       width=\"24px\">\n",
              "    <path d=\"M0 0h24v24H0V0z\" fill=\"none\"/>\n",
              "    <path d=\"M18.56 5.44l.94 2.06.94-2.06 2.06-.94-2.06-.94-.94-2.06-.94 2.06-2.06.94zm-11 1L8.5 8.5l.94-2.06 2.06-.94-2.06-.94L8.5 2.5l-.94 2.06-2.06.94zm10 10l.94 2.06.94-2.06 2.06-.94-2.06-.94-.94-2.06-.94 2.06-2.06.94z\"/><path d=\"M17.41 7.96l-1.37-1.37c-.4-.4-.92-.59-1.43-.59-.52 0-1.04.2-1.43.59L10.3 9.45l-7.72 7.72c-.78.78-.78 2.05 0 2.83L4 21.41c.39.39.9.59 1.41.59.51 0 1.02-.2 1.41-.59l7.78-7.78 2.81-2.81c.8-.78.8-2.07 0-2.86zM5.41 20L4 18.59l7.72-7.72 1.47 1.35L5.41 20z\"/>\n",
              "  </svg>\n",
              "      </button>\n",
              "      \n",
              "  <style>\n",
              "    .colab-df-container {\n",
              "      display:flex;\n",
              "      flex-wrap:wrap;\n",
              "      gap: 12px;\n",
              "    }\n",
              "\n",
              "    .colab-df-convert {\n",
              "      background-color: #E8F0FE;\n",
              "      border: none;\n",
              "      border-radius: 50%;\n",
              "      cursor: pointer;\n",
              "      display: none;\n",
              "      fill: #1967D2;\n",
              "      height: 32px;\n",
              "      padding: 0 0 0 0;\n",
              "      width: 32px;\n",
              "    }\n",
              "\n",
              "    .colab-df-convert:hover {\n",
              "      background-color: #E2EBFA;\n",
              "      box-shadow: 0px 1px 2px rgba(60, 64, 67, 0.3), 0px 1px 3px 1px rgba(60, 64, 67, 0.15);\n",
              "      fill: #174EA6;\n",
              "    }\n",
              "\n",
              "    [theme=dark] .colab-df-convert {\n",
              "      background-color: #3B4455;\n",
              "      fill: #D2E3FC;\n",
              "    }\n",
              "\n",
              "    [theme=dark] .colab-df-convert:hover {\n",
              "      background-color: #434B5C;\n",
              "      box-shadow: 0px 1px 3px 1px rgba(0, 0, 0, 0.15);\n",
              "      filter: drop-shadow(0px 1px 2px rgba(0, 0, 0, 0.3));\n",
              "      fill: #FFFFFF;\n",
              "    }\n",
              "  </style>\n",
              "\n",
              "      <script>\n",
              "        const buttonEl =\n",
              "          document.querySelector('#df-9ffa2a56-0b0f-464b-9618-13b73820ef00 button.colab-df-convert');\n",
              "        buttonEl.style.display =\n",
              "          google.colab.kernel.accessAllowed ? 'block' : 'none';\n",
              "\n",
              "        async function convertToInteractive(key) {\n",
              "          const element = document.querySelector('#df-9ffa2a56-0b0f-464b-9618-13b73820ef00');\n",
              "          const dataTable =\n",
              "            await google.colab.kernel.invokeFunction('convertToInteractive',\n",
              "                                                     [key], {});\n",
              "          if (!dataTable) return;\n",
              "\n",
              "          const docLinkHtml = 'Like what you see? Visit the ' +\n",
              "            '<a target=\"_blank\" href=https://colab.research.google.com/notebooks/data_table.ipynb>data table notebook</a>'\n",
              "            + ' to learn more about interactive tables.';\n",
              "          element.innerHTML = '';\n",
              "          dataTable['output_type'] = 'display_data';\n",
              "          await google.colab.output.renderOutput(dataTable, element);\n",
              "          const docLink = document.createElement('div');\n",
              "          docLink.innerHTML = docLinkHtml;\n",
              "          element.appendChild(docLink);\n",
              "        }\n",
              "      </script>\n",
              "    </div>\n",
              "  </div>\n",
              "  "
            ]
          },
          "metadata": {},
          "execution_count": 8
        }
      ]
    },
    {
      "cell_type": "markdown",
      "source": [
        "## That's it! \n",
        "Go to your working directory in Google Drive and look for the index.html file. <br>\n",
        "Download this and then open with a browser locally. You should see a visualization of words and the clusters. \n",
        "<br>\n",
        "You can continue to analyze more in depth with the following steps. \n"
      ],
      "metadata": {
        "id": "FNNheW9kYs61"
      }
    },
    {
      "cell_type": "markdown",
      "source": [
        "# Testing and evalution\n",
        "\n",
        "Below, you can run the cell to get a coherence score. You can learn more about coherence [here](https://rare-technologies.com/what-is-topic-coherence/). \n",
        "\n",
        "You can also use this to validate, with a quantitative measure, your number of topics, though, it should not depend upon this measure. \n"
      ],
      "metadata": {
        "id": "WsooiQBl0Lzp"
      }
    },
    {
      "cell_type": "code",
      "source": [
        "# Coherence score using C_umass:\n",
        "topics = []\n",
        "score = []\n",
        "for i in range(1,20,1):\n",
        "    lda_model = LdaMulticore(corpus=corpus, id2word=dictionary, iterations=10, num_topics=i, workers = 4, passes=10, random_state=100)\n",
        "    cm = CoherenceModel(model=lda_model, corpus=corpus, dictionary=dictionary, coherence='u_mass')\n",
        "    topics.append(i)\n",
        "    score.append(cm.get_coherence())\n",
        "_=plt.plot(topics, score)\n",
        "_=plt.xlabel('Number of Topics')\n",
        "_=plt.ylabel('Coherence Score')\n",
        "plt.show()\n"
      ],
      "metadata": {
        "colab": {
          "base_uri": "https://localhost:8080/",
          "height": 285
        },
        "id": "2zg7ul7f0K11",
        "outputId": "f9bfc588-0f5d-4a8f-f5da-3a862dee0fd5"
      },
      "execution_count": 12,
      "outputs": [
        {
          "output_type": "display_data",
          "data": {
            "text/plain": [
              "<Figure size 432x288 with 1 Axes>"
            ],
            "image/png": "[encoded data removed]"
          },
          "metadata": {}
        }
      ]
    }
  ],
  "metadata": {
    "colab": {
      "provenance": [],
      "include_colab_link": true
    },
    "kernelspec": {
      "display_name": "Python 3 (ipykernel)",
      "language": "python",
      "name": "python3"
    },
    "language_info": {
      "codemirror_mode": {
        "name": "ipython",
        "version": 3
      },
      "file_extension": ".py",
      "mimetype": "text/x-python",
      "name": "python",
      "nbconvert_exporter": "python",
      "pygments_lexer": "ipython3",
      "version": "3.8.13"
    }
  },
  "nbformat": 4,
  "nbformat_minor": 0
}