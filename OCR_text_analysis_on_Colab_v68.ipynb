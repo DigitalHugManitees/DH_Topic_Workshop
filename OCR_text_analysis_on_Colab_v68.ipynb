{
  "cells": [
    {
      "cell_type": "markdown",
      "metadata": {
        "id": "view-in-github",
        "colab_type": "text"
      },
      "source": [
        "<a href=\"https://colab.research.google.com/github/Digital-Huge-Manitees/Digital_Huge_Manitees/blob/main/OCR_text_analysis_on_Colab_v68.ipynb\" target=\"_parent\"><img src=\"https://colab.research.google.com/assets/colab-badge.svg\" alt=\"Open In Colab\"/></a>"
      ]
    },
    {
      "cell_type": "markdown",
      "metadata": {
        "id": "HSNtr-fvyJAk"
      },
      "source": [
        "# OCR and text analysis on pdf files\n",
        "This notebooks uses Optical Character Recognition, using the Pytesseract library, a wrapper for Google's Tesseract OCR engine, which is based upon a long history of text recognition initially developed at Hewlett-Packard. Once made public, Google further developed this for several years as Tesseract, building more libraries to handle over 100 languages, which can be found the documentation: https://tesseract-ocr.github.io/tessdoc/Data-Files-in-different-versions.html<br>\n",
        "## Input\n",
        "You will need high quality PDf files as input. They can be multi-page and they can be digital, scanned image only, or searchable types. This notebook was intended to provide usable text from scanned image PDF files commonly found in archives. \n",
        "\n",
        "## Output\n",
        "This notebook will output a .txt file of all text in the document. Text can be incomplete due to damage on the original document, unusual typefaces, or scan quality issues. \n",
        "\n",
        "## References:\n",
        "https://www.geeksforgeeks.org/python-reading-contents-of-pdf-using-ocr-optical-character-recognition/\n",
        "This notebook was adapted based on the above reference tutorial. \n",
        "\n",
        "## Dependencies:\n",
        "If you decide to run on locally on your computer by downloading this notebook, it will be essential to create an environment with these dependencies. Read the documentation carefully, as there is an order in which these are installed. \n",
        "- pytesseract - https://pypi.org/project/pytesseract/\n",
        "- tesseract - https://github.com/tesseract-ocr/tesseract\n",
        "- pdf2image - https://github.com/Belval/pdf2image\n"
      ]
    },
    {
      "cell_type": "markdown",
      "metadata": {
        "id": "LrsRSZhoyJAm"
      },
      "source": [
        "## Step 1: Link to your Google Drive account and create a new working directory\n",
        "Wait, what?! You don't have a Google account? You'll need to create a Google account here: https://support.google.com/accounts/answer/27441?hl=en\n",
        "\n",
        "### You will need to make sure you are signed into your Google account through your browser. Google Chrome works great for this. \n",
        "\n",
        "#### Step 1b: \n",
        "**Then - save a copy of this notebook (which is on GitHub) to your Google Drive.** Changes will be saved to your own copy. \n",
        "\n",
        "#### Step 1c: \n",
        "When you run the following cell, a dialog box will pop up asking you to select your Google account and confirm that you approve access. Once this is complete, go to your Google Drive, and you should see a new folder called Colab Notebook and with in it, OCR_Project_Folder. \n",
        "All of your work will be saved to this new folder, which will be your working directory. \n",
        "\n",
        "\n"
      ]
    },
    {
      "cell_type": "code",
      "source": [
        "#mount google drive here\n",
        "from google.colab import drive\n",
        "drive.mount('/content/drive', force_remount=True)\n",
        "\n",
        "import os \n",
        "\n",
        "# Set your working directory to a folder in your Google Drive. \n",
        "# the base Google Drive directory\n",
        "root_dir = \"/content/drive/My Drive/\"\n",
        "# choose where you want your project files to be saved\n",
        "project_folder = \"Colab Notebooks/OCR_Project_Folder/\"\n",
        "\n",
        "def create_and_set_working_directory(project_folder):\n",
        "  # check if your project folder exists. if not, it will be created.\n",
        "  if os.path.isdir(root_dir + project_folder) == False:\n",
        "    os.mkdir(root_dir + project_folder)\n",
        "    print(root_dir + project_folder + ' did not exist but was created.')\n",
        "\n",
        "  # change the OS to use your project folder as the working directory\n",
        "  os.chdir(root_dir + project_folder)\n",
        "\n",
        "  # show me the current working directory\n",
        "\n",
        "  print('\\nYour working directory was changed to ' + root_dir + project_folder)\n",
        "\n",
        "create_and_set_working_directory(project_folder)\n",
        "\n",
        "#source: https://robertbrucecarter.com/writing/2020/06/setting-your-working-directory-to-google-drive-in-a-colab-notebook/"
      ],
      "metadata": {
        "id": "094KlAekz_dZ",
        "colab": {
          "base_uri": "https://localhost:8080/"
        },
        "outputId": "64c39603-0833-4822-fbf7-c4c08391f035"
      },
      "execution_count": null,
      "outputs": [
        {
          "output_type": "stream",
          "name": "stdout",
          "text": [
            "Mounted at /content/drive\n",
            "\n",
            "Your working directory was changed to /content/drive/My Drive/Colab Notebooks/OCR_Project_Folder/\n"
          ]
        }
      ]
    },
    {
      "cell_type": "markdown",
      "source": [
        "###  Step 1d: Now, you have a working directory!\n",
        "- [ ] Go back to GitHub (https://github.com/Digital-Huge-Manitees/Digital_Huge_Manitees) and download the first pdf file from the archive folder. \n",
        "- [ ] Then, go to your Google Drive and locate the OCR_Project_Folder you created in the cells above. \n",
        "- [ ] Move the pdf file to this Google folder (your working directory). \n",
        "- you will repeat this process with every pdf you want to analyze. "
      ],
      "metadata": {
        "id": "a7kfS9QWrLBk"
      }
    },
    {
      "cell_type": "markdown",
      "source": [
        "## Step 2: Intall dependencies\n",
        "The following cell installs the libraries needed by this notebook."
      ],
      "metadata": {
        "id": "2BJcf-QUoimU"
      }
    },
    {
      "cell_type": "code",
      "source": [
        "#install tesseract, pdf2image\n",
        "!apt install tesseract-ocr\n",
        "!apt install libtesseract-dev\n",
        "!apt-get install poppler-utils \n",
        "!pip install pdf2image\n",
        "! pip install Pillow\n",
        "! pip install pytesseract\n",
        "\n",
        "# Import libraries\n",
        "import pytesseract\n",
        "from PIL import ImageEnhance, ImageFilter, Image\n",
        "import sys\n",
        "from pdf2image import convert_from_path\n",
        "import os\n",
        "from google.colab import files\n",
        "from tqdm import tqdm"
      ],
      "metadata": {
        "id": "2kn5EFby87qY",
        "colab": {
          "base_uri": "https://localhost:8080/"
        },
        "outputId": "92ce46d3-6d4f-47a2-c61e-81ae1aa46fc2"
      },
      "execution_count": null,
      "outputs": [
        {
          "output_type": "stream",
          "name": "stdout",
          "text": [
            "Reading package lists... Done\n",
            "Building dependency tree       \n",
            "Reading state information... Done\n",
            "tesseract-ocr is already the newest version (4.00~git2288-10f4998a-2).\n",
            "The following package was automatically installed and is no longer required:\n",
            "  libnvidia-common-460\n",
            "Use 'apt autoremove' to remove it.\n",
            "0 upgraded, 0 newly installed, 0 to remove and 20 not upgraded.\n",
            "Reading package lists... Done\n",
            "Building dependency tree       \n",
            "Reading state information... Done\n",
            "libtesseract-dev is already the newest version (4.00~git2288-10f4998a-2).\n",
            "The following package was automatically installed and is no longer required:\n",
            "  libnvidia-common-460\n",
            "Use 'apt autoremove' to remove it.\n",
            "0 upgraded, 0 newly installed, 0 to remove and 20 not upgraded.\n",
            "Reading package lists... Done\n",
            "Building dependency tree       \n",
            "Reading state information... Done\n",
            "poppler-utils is already the newest version (0.62.0-2ubuntu2.12).\n",
            "The following package was automatically installed and is no longer required:\n",
            "  libnvidia-common-460\n",
            "Use 'apt autoremove' to remove it.\n",
            "0 upgraded, 0 newly installed, 0 to remove and 20 not upgraded.\n",
            "Looking in indexes: https://pypi.org/simple, https://us-python.pkg.dev/colab-wheels/public/simple/\n",
            "Requirement already satisfied: pdf2image in /usr/local/lib/python3.7/dist-packages (1.16.0)\n",
            "Requirement already satisfied: pillow in /usr/local/lib/python3.7/dist-packages (from pdf2image) (9.2.0)\n",
            "Looking in indexes: https://pypi.org/simple, https://us-python.pkg.dev/colab-wheels/public/simple/\n",
            "Requirement already satisfied: Pillow in /usr/local/lib/python3.7/dist-packages (9.2.0)\n",
            "Looking in indexes: https://pypi.org/simple, https://us-python.pkg.dev/colab-wheels/public/simple/\n",
            "Requirement already satisfied: pytesseract in /usr/local/lib/python3.7/dist-packages (0.3.10)\n",
            "Requirement already satisfied: Pillow>=8.0.0 in /usr/local/lib/python3.7/dist-packages (from pytesseract) (9.2.0)\n",
            "Requirement already satisfied: packaging>=21.3 in /usr/local/lib/python3.7/dist-packages (from pytesseract) (21.3)\n",
            "Requirement already satisfied: pyparsing!=3.0.5,>=2.0.2 in /usr/local/lib/python3.7/dist-packages (from packaging>=21.3->pytesseract) (3.0.9)\n"
          ]
        }
      ]
    },
    {
      "cell_type": "markdown",
      "source": [
        "### Optional: Change runtime type from CPU to GPU.\n",
        "IF you are processing a long multipage PDF file OR multiple PDFs, you may need more computational power. A GPU or TPU can process faster, however, lots of GPU usage may require you to upgrade your account. \n",
        "You can do this from the Runtime dropdown menu in the top bar and select 'Change Runtime type'. \n",
        "The cell below confirms your change. "
      ],
      "metadata": {
        "id": "TFAjo7zhbMb8"
      }
    },
    {
      "cell_type": "code",
      "source": [
        "from tensorflow.python.client import device_lib\n",
        "device_lib.list_local_devices()"
      ],
      "metadata": {
        "colab": {
          "base_uri": "https://localhost:8080/"
        },
        "id": "mNfxf6SgOv0S",
        "outputId": "8aebd886-95c3-42f3-fb72-934e2bba8b0e"
      },
      "execution_count": null,
      "outputs": [
        {
          "output_type": "execute_result",
          "data": {
            "text/plain": [
              "[name: \"/device:CPU:0\"\n",
              " device_type: \"CPU\"\n",
              " memory_limit: 268435456\n",
              " locality {\n",
              " }\n",
              " incarnation: 10869559926890696348\n",
              " xla_global_id: -1, name: \"/device:GPU:0\"\n",
              " device_type: \"GPU\"\n",
              " memory_limit: 14444920832\n",
              " locality {\n",
              "   bus_id: 1\n",
              "   links {\n",
              "   }\n",
              " }\n",
              " incarnation: 11636129454917731277\n",
              " physical_device_desc: \"device: 0, name: Tesla T4, pci bus id: 0000:00:04.0, compute capability: 7.5\"\n",
              " xla_global_id: 416903419]"
            ]
          },
          "metadata": {},
          "execution_count": 5
        }
      ]
    },
    {
      "cell_type": "markdown",
      "metadata": {
        "id": "eDu5gtmQyJAo"
      },
      "source": [
        "## Step 3: gather the PDF files and create the OsCaRizer function. \n",
        "The first cell below locates any PDF files you have placed in the working directory. \n",
        "The second cell creates the function that will performs two actions:\n",
        "\n",
        "1.   creating an image from each page of the PDF\n",
        "2.   then rendering that image into a .txt file with the same name as the original input file.\n",
        "\n",
        " "
      ]
    },
    {
      "cell_type": "code",
      "source": [
        "\"\"\"\n",
        "This should find all PDF files in working dir. \n",
        "HOWEVER, it will not find those nested in subdirectories\n",
        "\"\"\"\n",
        "path_of_the_directory = os.getcwd()\n",
        "ext = ('.pdf')\n",
        "pdf_list = []\n",
        "for files in os.listdir(path_of_the_directory):\n",
        "    if files.endswith(ext):\n",
        "        print(files)\n",
        "        pdf_list.append(files)\n",
        "\n",
        "    else:\n",
        "        continue\n",
        "print('done - move on to next cell')\n",
        "\n"
      ],
      "metadata": {
        "colab": {
          "base_uri": "https://localhost:8080/"
        },
        "id": "p1rm_EaXgDxT",
        "outputId": "7b65fc14-f8a5-4686-ac7f-cf2527d22e0c"
      },
      "execution_count": null,
      "outputs": [
        {
          "output_type": "stream",
          "name": "stdout",
          "text": [
            "dalhousiegazette_volume54_issue20_december_6_1922.pdf\n",
            "dalhousiegazette_volume54_issue21_january_10_1923.pdf\n",
            "dalhousiegazette_volume54_issue22_january_17_1923.pdf\n",
            "done - move on to next cell\n"
          ]
        }
      ]
    },
    {
      "cell_type": "code",
      "execution_count": null,
      "metadata": {
        "id": "mJBI1h74yJAp"
      },
      "outputs": [],
      "source": [
        "\"\"\"\n",
        "create function to run in a loop\n",
        "through the pdf list\n",
        "\n",
        "\"\"\"\n",
        "def OsCaRizer(pdf_file):\n",
        "\n",
        "  # Path of the pdf\n",
        "  #PDF_file = '/content/drive/MyDrive/Colab Notebooks/OCR_Project_Folder/dalhousiegazette_volume54_issue19_november_29_1922.pdf'\n",
        "  PDF_file = path_of_the_directory + \"/\" + pdf_file\n",
        "\n",
        "  #suppress warnings about image size from PIL\n",
        "  Image.MAX_IMAGE_PIXELS = None   # disables the warning\n",
        "    \n",
        "  # Store all the pages of the PDF in a variable\n",
        "  pages = convert_from_path(PDF_file, 500)\n",
        "    \n",
        "  # Counter to store images of each page of PDF to image\n",
        "  image_counter = 1\n",
        "    \n",
        "  # Iterate through all the pages stored above\n",
        "  for page in pages:\n",
        "    \n",
        "      # Declaring filename for each page of PDF as JPG\n",
        "      # For each page, filename will be:\n",
        "      # PDF page 1 -> page_1.jpg\n",
        "      # PDF page 2 -> page_2.jpg\n",
        "      # PDF page 3 -> page_3.jpg\n",
        "      # ....\n",
        "      # PDF page n -> page_n.jpg\n",
        "      filename = \"page_\"+str(image_counter)+\".jpg\"\n",
        "        \n",
        "      # Save the image of the page in system\n",
        "      page.save(filename, 'JPEG')\n",
        "    \n",
        "      # Increment the counter to update filename\n",
        "      image_counter = image_counter + 1\n",
        "  \"\"\"\n",
        "  process the image files to text\n",
        "  \"\"\"\n",
        "  #suppress warnings about image size from PIL\n",
        "  Image.MAX_IMAGE_PIXELS = None   # disables the warning\n",
        "\n",
        "  # Variable to get count of total number of pages\n",
        "  filelimit = image_counter-1\n",
        "    \n",
        "  # Creating a text file to write the output\n",
        "  outfile = ((pdf_file.rsplit( \".\", 1)[0]) + '.txt')\n",
        "    \n",
        "  # Open the file in append mode so that \n",
        "  # All contents of all images are added to the same file\n",
        "  f = open(outfile, \"a\")\n",
        "    \n",
        "  # Iterate from 1 to total number of pages\n",
        "  for i in (range(1, filelimit + 1)):\n",
        "    \n",
        "      # Set filename to recognize text from\n",
        "      # These files will be:\n",
        "      # page_1.jpg\n",
        "      # page_2.jpg\n",
        "      # ....\n",
        "      # page_n.jpg\n",
        "      filename = \"page_\"+str(i)+\".jpg\"\n",
        "            \n",
        "      # Recognize the text as string in image using pytesserct\n",
        "      text = str(((pytesseract.image_to_string(Image.open(filename)))))\n",
        "    \n",
        "      # The recognized text is stored in variable text\n",
        "      # Any string processing may be applied on text\n",
        "      # Here, basic formatting has been done:\n",
        "      # In many PDFs, at line ending, if a word can't\n",
        "      # be written fully, a 'hyphen' is added.\n",
        "      # The rest of the word is written in the next line\n",
        "      # Eg: This is a sample text this word here GeeksF-\n",
        "      # orGeeks is half on first line, remaining on next.\n",
        "      # To remove this, we replace every '-\\n' to ''.\n",
        "      text = text.replace('-\\n', '')    \n",
        "    \n",
        "      # Finally, write the processed text to the file.\n",
        "      f.write(text)\n",
        "    \n",
        "  # Close the file after writing all the text.\n",
        "  f.close()\n",
        "  \"\"\"\n",
        "  clean out page image files before next instance of loop\n",
        "  \"\"\"\n",
        "\n",
        "  files = os.listdir(path_of_the_directory)\n",
        "  for f in files:\n",
        "    if not os.path.isdir(f) and \"page\" in f:\n",
        "      os.remove(f)\n",
        "\n",
        "  print('done - you should see a .txt file named after your .pdf file in your working directory')\n"
      ]
    },
    {
      "cell_type": "markdown",
      "metadata": {
        "id": "0LERYwLXyJAq"
      },
      "source": [
        "## Step 4: Runs the OsCaRizer function.\n",
        "Each multipage PDF can take 3-5 minutes. As an example, a 7-page PDF takes about 4 minutes. 3 of these multipage PDFs can take 12-15 minutes. \n",
        "\n",
        "You can interupt the process anytime, just be aware that it takes a while. "
      ]
    },
    {
      "cell_type": "code",
      "execution_count": null,
      "metadata": {
        "scrolled": true,
        "id": "DmDWsIwByJAq",
        "outputId": "f9cc4b9e-b9cb-4af8-c484-44601342a35b",
        "colab": {
          "base_uri": "https://localhost:8080/"
        }
      },
      "outputs": [
        {
          "output_type": "stream",
          "name": "stderr",
          "text": [
            " 33%|███▎      | 1/3 [04:42<09:24, 282.14s/it]"
          ]
        },
        {
          "output_type": "stream",
          "name": "stdout",
          "text": [
            "done - you should see a .txt file named after your .pdf file in your working directory\n",
            "the file dalhousiegazette_volume54_issue20_december_6_1922.pdf is complete\n"
          ]
        },
        {
          "output_type": "stream",
          "name": "stderr",
          "text": [
            "\r 67%|██████▋   | 2/3 [10:12<05:10, 310.47s/it]"
          ]
        },
        {
          "output_type": "stream",
          "name": "stdout",
          "text": [
            "done - you should see a .txt file named after your .pdf file in your working directory\n",
            "the file dalhousiegazette_volume54_issue21_january_10_1923.pdf is complete\n"
          ]
        },
        {
          "output_type": "stream",
          "name": "stderr",
          "text": [
            "100%|██████████| 3/3 [15:12<00:00, 304.23s/it]"
          ]
        },
        {
          "output_type": "stream",
          "name": "stdout",
          "text": [
            "done - you should see a .txt file named after your .pdf file in your working directory\n",
            "the file dalhousiegazette_volume54_issue22_january_17_1923.pdf is complete\n"
          ]
        },
        {
          "output_type": "stream",
          "name": "stderr",
          "text": [
            "\n"
          ]
        }
      ],
      "source": [
        "for k in tqdm(range(len(pdf_list))):\n",
        "    pdf_file = pdf_list[k]\n",
        "    OsCaRizer(pdf_file)\n",
        "    print('the file ' + pdf_file + ' is complete')\n"
      ]
    },
    {
      "cell_type": "markdown",
      "metadata": {
        "id": "PNymX0sxyJAr"
      },
      "source": [
        "### woo-hoo! You should see a successfully created .txt file in your folder. \n",
        "\n",
        "You can download the .txt file to read in a text editor to check the quality. "
      ]
    },
    {
      "cell_type": "markdown",
      "metadata": {
        "id": "2YppAawUyJA0"
      },
      "source": [
        "## That's it!\n",
        "You get the following from this notebook that can be used for further analysis:\n",
        "- the .txt which is the original, unmodified text as interpreted by the OCR engine. This preserves the original structure and may be useful in certain analysis. It is named the same as the original PDF file for retrieval at a later date if needed. \n",
        "<br>\n",
        "<br>\n",
        "Further analysis can compare the terms found in this article to others and rank them in importance, such as TF-IDF (see our Term Frequency and TFIDF notebook). Or the documents can be analyzed for topics and those topics compared against other documents using LDA with Spacey and Gensim (see our LDA notebook). \n",
        "\n",
        "## **If you are ready to process another pdf** \n",
        "You should MOVE the .txt file you just created along with the .pdf file to a safe place (such as a different Google Drive directory, leaving your working directory empty. \n",
        "\n",
        "The image files are deleted after each processing loop, though the Colab file explorer takes a few seconds to update sometimes. \n",
        "\n",
        "**Download the next PDF file(s) from GitHub**, (or whereever you may have them.) And place the new PDF or PDFs in your working directory. \n"
      ]
    }
  ],
  "metadata": {
    "kernelspec": {
      "display_name": "Python 3 (ipykernel)",
      "language": "python",
      "name": "python3"
    },
    "language_info": {
      "codemirror_mode": {
        "name": "ipython",
        "version": 3
      },
      "file_extension": ".py",
      "mimetype": "text/x-python",
      "name": "python",
      "nbconvert_exporter": "python",
      "pygments_lexer": "ipython3",
      "version": "3.8.13"
    },
    "colab": {
      "provenance": [],
      "collapsed_sections": [],
      "include_colab_link": true
    },
    "gpuClass": "standard",
    "accelerator": "GPU"
  },
  "nbformat": 4,
  "nbformat_minor": 0
}